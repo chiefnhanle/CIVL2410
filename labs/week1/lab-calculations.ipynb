{
 "cells": [
  {
   "cell_type": "markdown",
   "id": "8a84bd89",
   "metadata": {},
   "source": [
    "# WEEK 1 LAB"
   ]
  },
  {
   "cell_type": "markdown",
   "id": "172979a9",
   "metadata": {},
   "source": [
    "## 3 Hydrometer Lab"
   ]
  },
  {
   "cell_type": "code",
   "execution_count": 1,
   "id": "0ce57f40",
   "metadata": {},
   "outputs": [],
   "source": [
    "pass"
   ]
  }
 ],
 "metadata": {
  "kernelspec": {
   "display_name": ".venv (3.10.12)",
   "language": "python",
   "name": "python3"
  },
  "language_info": {
   "codemirror_mode": {
    "name": "ipython",
    "version": 3
   },
   "file_extension": ".py",
   "mimetype": "text/x-python",
   "name": "python",
   "nbconvert_exporter": "python",
   "pygments_lexer": "ipython3",
   "version": "3.10.12"
  }
 },
 "nbformat": 4,
 "nbformat_minor": 5
}
