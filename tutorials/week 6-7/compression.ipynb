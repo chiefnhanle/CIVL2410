{
 "cells": [
  {
   "cell_type": "markdown",
   "id": "c8870bda",
   "metadata": {},
   "source": [
    "This week we explores the concept of Compression/recompression."
   ]
  },
  {
   "cell_type": "code",
   "execution_count": 1,
   "id": "0bbb2a0f",
   "metadata": {},
   "outputs": [],
   "source": [
    "import numpy as np\n",
    "\n",
    "def compute_sigma_pc(data, tail_n=5, smooth_window=3):\n",
    "    sigma = np.asarray(data['sigma'], dtype=float)\n",
    "    e = np.asarray(data['e'], dtype=float)\n",
    "    if sigma.size != e.size or sigma.size < 6:\n",
    "        raise ValueError(\"Need at least 6 paired points of sigma and e.\")\n",
    "\n",
    "    # Ensure strictly increasing sigma (sort if needed)\n",
    "    order = np.argsort(sigma)\n",
    "    sigma = sigma[order]\n",
    "    e = e[order]\n",
    "\n",
    "    if np.any(sigma <= 0):\n",
    "        raise ValueError(\"All sigma values must be > 0 for log10 transform.\")\n",
    "\n",
    "    # Transform x-axis to log10(sigma)\n",
    "    log_sigma = np.log10(sigma)\n",
    "\n",
    "    # Simple moving-average smoothing on e (optional)\n",
    "    if smooth_window is None or smooth_window < 1:\n",
    "        smooth_window = 1\n",
    "    if smooth_window % 2 == 0:\n",
    "        smooth_window += 1  # force odd\n",
    "\n",
    "    if smooth_window == 1:\n",
    "        e_s = e.copy()\n",
    "    else:\n",
    "        pad = smooth_window // 2\n",
    "        e_pad = np.pad(e, pad_width=pad, mode='edge')\n",
    "        kernel = np.ones(smooth_window) / smooth_window\n",
    "        e_s = np.convolve(e_pad, kernel, mode='valid')  # same length as e\n",
    "\n",
    "    # First and second derivatives w.r.t. log_sigma\n",
    "    de_dlog = np.gradient(e_s, log_sigma)\n",
    "    d2e_dlog2 = np.gradient(de_dlog, log_sigma)\n",
    "\n",
    "    # Curvature (magnitude): kappa = |e''| / (1 + e'^2)^{3/2}\n",
    "    kappa = np.abs(d2e_dlog2) / np.power(1.0 + de_dlog**2, 1.5)\n",
    "\n",
    "    # Avoid selecting ends (numerical artifacts): ignore first/last point\n",
    "    if kappa.size > 4:\n",
    "        kappa_use = kappa[2:-2]\n",
    "        idx_star_rel = np.argmax(kappa_use)\n",
    "        idx_star = idx_star_rel + 2\n",
    "    else:\n",
    "        idx_star = int(np.argmax(kappa))\n",
    "\n",
    "    # Point of maximum curvature\n",
    "    x_star = log_sigma[idx_star]\n",
    "    e_star = e_s[idx_star]\n",
    "    m_tan = de_dlog[idx_star]                # slope of tangent at star\n",
    "    theta = np.arctan(m_tan)                 # angle of tangent vs horizontal\n",
    "    m_bis = np.tan(theta / 2.0)              # slope of bisector with horizontal\n",
    "\n",
    "    # Fit virgin compression line on high-stress tail: e = a*log_sigma + b\n",
    "    tail_n = max(3, min(int(tail_n), e_s.size - 2))\n",
    "    x_tail = log_sigma[-tail_n:]\n",
    "    e_tail = e_s[-tail_n:]\n",
    "    a_vir, b_vir = np.polyfit(x_tail, e_tail, 1)\n",
    "\n",
    "    # Intersection of bisector and virgin line:\n",
    "    # e_bis(x) = e_star + m_bis*(x - x_star)\n",
    "    # e_vir(x) = a_vir * x + b_vir\n",
    "    # Solve e_star + m_bis*(x - x_star) = a_vir*x + b_vir\n",
    "    # => e_star - m_bis*x_star = (a_vir - m_bis)*x + b_vir\n",
    "    denom = (a_vir - m_bis)\n",
    "    if np.isclose(denom, 0.0):\n",
    "        # Fallback: if bisector nearly parallel to virgin line, use intersection of tangent & virgin\n",
    "        x_pc = (e_star - m_tan*x_star - b_vir) / (a_vir - m_tan)\n",
    "    else:\n",
    "        x_pc = (e_star - m_bis * x_star - b_vir) / denom\n",
    "\n",
    "    sigma_pc = 10.0 ** x_pc\n",
    "\n",
    "    return {\n",
    "        'sigma_pc': float(sigma_pc),\n",
    "        'log_sigma_pc': float(x_pc),\n",
    "        'idx_star': int(idx_star),\n",
    "        'coeff_virgin': (float(a_vir), float(b_vir)),\n",
    "        'slope_tangent': float(m_tan),\n",
    "        'slope_bisector': float(m_bis),\n",
    "        'log_sigma': log_sigma,\n",
    "        'e_smooth': e_s\n",
    "    }\n",
    "\n",
    "\n"
   ]
  },
  {
   "cell_type": "code",
   "execution_count": 2,
   "id": "9615e4a9",
   "metadata": {},
   "outputs": [
    {
     "name": "stdout",
     "output_type": "stream",
     "text": [
      "sigma_pc ≈ 50.0 (same units as input sigma)\n"
     ]
    }
   ],
   "source": [
    "data = {\n",
    "    'sigma': [12.5, 25, 50, 100, 200, 400, 800],  # kPa\n",
    "    'e':     [1.02, 0.98, 0.95, 0.92, 0.88, 0.84, 0.80]\n",
    "}\n",
    "res = compute_sigma_pc(data, tail_n=5, smooth_window=3)\n",
    "print(f\"sigma_pc ≈ {res['sigma_pc']:.1f} (same units as input sigma)\")"
   ]
  }
 ],
 "metadata": {
  "kernelspec": {
   "display_name": ".venv (3.10.12)",
   "language": "python",
   "name": "python3"
  },
  "language_info": {
   "codemirror_mode": {
    "name": "ipython",
    "version": 3
   },
   "file_extension": ".py",
   "mimetype": "text/x-python",
   "name": "python",
   "nbconvert_exporter": "python",
   "pygments_lexer": "ipython3",
   "version": "3.10.12"
  }
 },
 "nbformat": 4,
 "nbformat_minor": 5
}
