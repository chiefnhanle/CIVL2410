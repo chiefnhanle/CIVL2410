{
 "cells": [
  {
   "cell_type": "markdown",
   "id": "cbf6c21d",
   "metadata": {},
   "source": [
    "# WEEK 1"
   ]
  },
  {
   "cell_type": "markdown",
   "id": "3eb47974",
   "metadata": {},
   "source": [
    "Initialising the \"matters\" and their corresponding values."
   ]
  },
  {
   "cell_type": "code",
   "execution_count": 48,
   "id": "042250d9",
   "metadata": {},
   "outputs": [],
   "source": [
    "from __future__ import annotations\n",
    "from sympy import symbols, Eq, solve, sympify\n",
    "from typing import Optional, Dict\n",
    "g = 9.81"
   ]
  },
  {
   "cell_type": "code",
   "execution_count": 49,
   "id": "0885a4e9",
   "metadata": {},
   "outputs": [],
   "source": [
    "class matter:\n",
    "    def __init__(self):\n",
    "        self.mass: float | None = None\n",
    "        self.volume: float | None = None\n",
    "        self.density: float | None = None\n",
    "        self.state: str | None = None\n",
    "        self.weight: float | None = None\n",
    "        self.unit_weight: float | None = None"
   ]
  },
  {
   "cell_type": "markdown",
   "id": "f041fc18",
   "metadata": {},
   "source": [
    "As a 3 state matters, we can define Air, Soil and Water to be child classes of matter, and they will inherit all the methods"
   ]
  },
  {
   "cell_type": "code",
   "execution_count": 50,
   "id": "a436de73",
   "metadata": {},
   "outputs": [],
   "source": [
    "class air(matter):\n",
    "    def __init__(self):\n",
    "        super().__init__()\n",
    "        self.state = \"gas\"\n",
    "        self.density = 0\n",
    "class solid(matter):\n",
    "    def __init__(self):\n",
    "        super().__init__()\n",
    "        self.state = \"solid\"\n",
    "        self.density: float | None = None\n",
    "        self.specific_gravity: float | None = None\n",
    "class liquid(matter):\n",
    "    def __init__(self):\n",
    "        super().__init__()\n",
    "        self.state = \"liquid\"\n",
    "        self.density: float | None = None"
   ]
  },
  {
   "cell_type": "markdown",
   "id": "120041b4",
   "metadata": {},
   "source": [
    "Now, we can define a soil sample, as a class that encapsulate the previous 3 classes\n",
    "Here, I choose to define variables as functions, and solve them using **NUMERICAL METHOD**"
   ]
  },
  {
   "cell_type": "code",
   "execution_count": 51,
   "id": "fabbd1dc",
   "metadata": {},
   "outputs": [],
   "source": [
    "class soil:\n",
    "    def __init__(self):\n",
    "        self.air = air()\n",
    "        self.solid = solid()\n",
    "        self.water = liquid()\n",
    "        self.total_mass:float|None = None\n",
    "        self.total_volume:float|None = None\n",
    "        self.porosity:float|None = None\n",
    "        self.moisture_content:float|None = None\n",
    "        self.saturation:float|None = None\n",
    "        self.relative_density:float|None = None\n",
    "        self.void_ratio:float|None = None\n",
    "        self.solid_fraction:float|None = None\n",
    "        self.dry_unit_weight:float|None = None\n",
    "        self.bulk_unit_weight:float|None = None\n",
    "        self.saturated_unit_weight:float|None = None\n",
    "        self.submerged_unit_weight:float|None = None\n",
    "        self.degree_of_compaction:float|None = None\n",
    "        self.e_max:float|None = None\n",
    "        self.e_min:float|None = None\n",
    "        if self.water.density is None:\n",
    "            self.water.density = 998\n",
    "    def solve(self) -> Dict[str, float]:\n",
    "        # --- 1) Symbols\n",
    "        Va, Vw, Vs, Vv, Vt = symbols('Va Vw Vs Vv Vt', real=True)\n",
    "        Gs,e, n, S, v, Id, e_max, e_min = symbols('Gs e n S v Id e_max e_min', real=True)\n",
    "        Mw, Ms, Mc = symbols('Mw Ms Mc', real=True)\n",
    "        gamma_water, gamma_bulk, gamma_sat, gamma_dry, gamma_sub = symbols('gamma_water gamma_bulk gamma_sat gamma_dry gamma_sub', real=True)\n",
    "        Wsolid, Wwater = symbols('Wsolid Wwater', real=True)\n",
    "        # --- 2) Equation set (extend as you add more relations)\n",
    "        # Volumes\n",
    "        eqs = [\n",
    "            \n",
    "            #Mass Formula\n",
    "            Eq(Mw, Vw*self.water.density),\n",
    "            Eq(Ms, Vs*Gs*self.water.density),\n",
    "            #Weights formula\n",
    "            Eq(Wwater, Vs*gamma_water),\n",
    "            Eq(Wsolid, Vs*Gs*gamma_water),\n",
    "            #Volumes formula\n",
    "            Eq(Vv, Va + Vw),       # void volume\n",
    "            Eq(Vt, Vv + Vs),       # total volume\n",
    "            \n",
    "            # Classic soil relations\n",
    "            Eq(e,  Vv / Vs),       # void ratio\n",
    "            Eq(n,  Vv / Vt),       # porosity\n",
    "            Eq(v, Vs / Vt),       # solid fraction\n",
    "            Eq(Id, (e_max - e) / (e_max - e_min)),  # relative density (need e_max, e_min)\n",
    "\n",
    "            # Moisture content (mass-based)\n",
    "            Eq(Mc,  Mw / Ms),\n",
    "            Eq(S,  Vw / Vv),       # degree of saturation\n",
    "            \n",
    "            #Unit Weights\n",
    "            Eq(gamma_bulk, (Mw + Ms) / Vt * g),\n",
    "            Eq(gamma_dry, Ms / Vt * g),\n",
    "            Eq(gamma_sat, (Ms)* g / (Vs+Vw)),\n",
    "            Eq(gamma_sub, gamma_sat - g * self.water.density),\n",
    "            Eq(gamma_water, self.water.density*g)\n",
    "        ]\n",
    "\n",
    "        # --- 3) Gather knowns from the instance\n",
    "        known: Dict = {}\n",
    "\n",
    "        def put(symbol, value):\n",
    "            if value is not None:\n",
    "                known[symbol] = float(value)\n",
    "        put(Va, getattr(self.air,   'volume', None))\n",
    "        put(Vw, getattr(self.water, 'volume', None))\n",
    "        put(Vs, getattr(self.solid, 'volume', None))\n",
    "        put(Mw, getattr(self.water, 'mass',   None))\n",
    "        put(Ms, getattr(self.solid, 'mass',   None))\n",
    "        put(Gs, getattr(self.solid, 'specific_gravity', None))\n",
    "        put(e_max, self.e_max)\n",
    "        put(e_min, self.e_min)\n",
    "        put(gamma_bulk,     self.bulk_unit_weight)\n",
    "        put(gamma_water,    self.water.unit_weight)\n",
    "        put(gamma_dry,      self.dry_unit_weight)\n",
    "        put(gamma_sat,      self.saturated_unit_weight)\n",
    "        put(gamma_sub,      self.submerged_unit_weight)\n",
    "        put(e,  self.void_ratio)\n",
    "        put(n,  self.porosity)\n",
    "        put(S,  self.saturation)\n",
    "        put(v,  self.solid_fraction)\n",
    "        put(Mc,  self.moisture_content)\n",
    "        put(Vt, self.total_volume)\n",
    "\n",
    "        # --- 4) Helper: single-unknown solve loop\n",
    "        def single_unknown_pass(equations, known_dict):\n",
    "            updated = False\n",
    "            for eq in equations:\n",
    "                # substitute knowns\n",
    "                residual = (eq.lhs - eq.rhs).subs(known_dict)\n",
    "                # which symbols remain?\n",
    "                unknown_syms = [s for s in residual.free_symbols if s not in known_dict]\n",
    "                if len(unknown_syms) == 1:\n",
    "                    u = unknown_syms[0]\n",
    "                    # solve for that symbol\n",
    "                    sol = solve(sympify(residual), u)\n",
    "                    if sol:\n",
    "                        val = float(sol[0])\n",
    "                        known_dict[u] = val\n",
    "                        updated = True\n",
    "            return updated\n",
    "\n",
    "        # Keep solving until no change\n",
    "        while single_unknown_pass(eqs, known):\n",
    "            pass\n",
    "\n",
    "        # --- 5) Write back to the instance (only if previously None)\n",
    "        def set_if_none(attr_name, sym):\n",
    "            val = known.get(sym, None)\n",
    "            if val is not None and getattr(self, attr_name) is None:\n",
    "                setattr(self, attr_name, val)\n",
    "\n",
    "        def set_obj_if_none(obj, field, sym):\n",
    "            val = known.get(sym, None)\n",
    "            if val is not None and getattr(obj, field) is None:\n",
    "                setattr(obj, field, val)\n",
    "\n",
    "        set_obj_if_none(self.air,   'volume', Va)\n",
    "        set_obj_if_none(self.water, 'volume', Vw)\n",
    "        set_obj_if_none(self.solid, 'volume', Vs)\n",
    "\n",
    "        set_if_none('total_volume', Vt)\n",
    "        set_if_none('void_ratio',   e)\n",
    "        set_if_none('porosity',     n)\n",
    "        set_if_none('saturation',   S)\n",
    "        set_if_none('solid_fraction', v)\n",
    "        set_if_none('moisture_content', Mc)\n",
    "\n",
    "        # Return what we learned (nice for debugging)\n",
    "        # You can trim this if you only want final state on the object\n",
    "        out = {}\n",
    "        for name, sym in {\n",
    "            'Va': Va, 'Vw': Vw, 'Vs': Vs, 'Vv': Vv, 'Vt': Vt,\n",
    "            'e': e, 'n': n, 'S': S, 'v': v, 'Id': Id, 'Mw': Mw, 'Ms': Ms\n",
    "        }.items():\n",
    "            if sym in known:\n",
    "                out[name] = known[sym]\n",
    "\n",
    "        return out\n"
   ]
  },
  {
   "cell_type": "markdown",
   "id": "1145b846",
   "metadata": {},
   "source": [
    "Here, you just simply input all known variables, and the software will automatically solves for ALL possible missing variables"
   ]
  },
  {
   "cell_type": "code",
   "execution_count": 53,
   "id": "5469f011",
   "metadata": {},
   "outputs": [
    {
     "name": "stdout",
     "output_type": "stream",
     "text": [
      "13.25\n",
      "{'Va': 0.06, 'Vw': 13.25, 'Vs': 50.0, 'Vv': 13.31, 'Vt': 63.31, 'e': 0.2662, 'n': 0.21023534986574, 'S': 0.99549211119459, 'v': 0.78976465013426, 'Mw': 13223.499999999995, 'Ms': 132235.0}\n"
     ]
    }
   ],
   "source": [
    "s = soil()\n",
    "s.solid.volume = 50   # m^3\n",
    "s.moisture_content = 0.1\n",
    "s.air.volume = 0.06\n",
    "# s.water.density = 998\n",
    "s.solid.specific_gravity = 2.65\n",
    "results = s.solve()\n",
    "print(s.water.volume)\n",
    "print(results)"
   ]
  },
  {
   "cell_type": "code",
   "execution_count": null,
   "id": "863f22d0",
   "metadata": {},
   "outputs": [],
   "source": []
  }
 ],
 "metadata": {
  "kernelspec": {
   "display_name": ".venv (3.10.12)",
   "language": "python",
   "name": "python3"
  },
  "language_info": {
   "codemirror_mode": {
    "name": "ipython",
    "version": 3
   },
   "file_extension": ".py",
   "mimetype": "text/x-python",
   "name": "python",
   "nbconvert_exporter": "python",
   "pygments_lexer": "ipython3",
   "version": "3.10.12"
  }
 },
 "nbformat": 4,
 "nbformat_minor": 5
}
