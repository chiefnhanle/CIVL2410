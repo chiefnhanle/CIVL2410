{
 "cells": [
  {
   "cell_type": "markdown",
   "id": "d37ace57",
   "metadata": {},
   "source": [
    "# Week 2 - Classification"
   ]
  },
  {
   "cell_type": "markdown",
   "id": "4580188d",
   "metadata": {},
   "source": [
    "This week, the tutorial questions is all about categorising soil, based on the soil composition the masses of different particle sizes. We tend to use a Cummulative Historam to plot the composition."
   ]
  },
  {
   "cell_type": "code",
   "execution_count": null,
   "id": "0f8e33a6",
   "metadata": {},
   "outputs": [],
   "source": [
    "from typing import Dict\n",
    "import matplotlib.pyplot as plt\n",
    "import pandas as pd"
   ]
  },
  {
   "cell_type": "code",
   "execution_count": null,
   "id": "24688db2",
   "metadata": {},
   "outputs": [],
   "source": [
    "class sample:\n",
    "    def __init__(self):\n",
    "        self.total_mass:float|None = None\n",
    "        self.mass: pd.DataFrame = pd.DataFrame(columns=[\"particle_size\", \"mass\"])\n",
    "        self.category:str|None = None\n",
    "    def plot_cf(self):\n",
    "        self.total_mass = self.mass[\"mass\"].sum()\n",
    "        plt.figure(figsize=(10, 6))\n",
    "        plt.bar(self.mass[\"particle_size\"], self.mass[\"mass\"], color='blue', alpha=0.7)\n",
    "        plt.axhline(y=self.total_mass, color='r', linestyle='--')\n",
    "        plt.title(f\"Mass Distribution - {self.category}\")\n",
    "        plt.xlabel(\"Particle Size\")\n",
    "        plt.ylabel(\"Mass\")\n",
    "        plt.show()\n"
   ]
  },
  {
   "cell_type": "code",
   "execution_count": null,
   "id": "95e566ec",
   "metadata": {},
   "outputs": [],
   "source": [
    "s = sample()"
   ]
  }
 ],
 "metadata": {
  "kernelspec": {
   "display_name": ".venv (3.10.12)",
   "language": "python",
   "name": "python3"
  },
  "language_info": {
   "codemirror_mode": {
    "name": "ipython",
    "version": 3
   },
   "file_extension": ".py",
   "mimetype": "text/x-python",
   "name": "python",
   "nbconvert_exporter": "python",
   "pygments_lexer": "ipython3",
   "version": "3.10.12"
  }
 },
 "nbformat": 4,
 "nbformat_minor": 5
}
