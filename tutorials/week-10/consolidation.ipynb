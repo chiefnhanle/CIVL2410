{
 "cells": [
  {
   "cell_type": "markdown",
   "id": "435cf5bd",
   "metadata": {},
   "source": [
    "# Consolidation Calculation"
   ]
  },
  {
   "cell_type": "code",
   "execution_count": 14,
   "id": "abb80ee4",
   "metadata": {},
   "outputs": [],
   "source": [
    "import numpy as np\n",
    "import matplotlib.pyplot as plt\n",
    "import pandas as pd\n",
    "from sympy import symbols, Eq, solve, sympify\n",
    "import pandas as pd\n",
    "from sympy import symbols, Eq, solve\n"
   ]
  },
  {
   "cell_type": "code",
   "execution_count": null,
   "id": "447db430",
   "metadata": {},
   "outputs": [
    {
     "data": {
      "text/html": [
       "<div>\n",
       "<style scoped>\n",
       "    .dataframe tbody tr th:only-of-type {\n",
       "        vertical-align: middle;\n",
       "    }\n",
       "\n",
       "    .dataframe tbody tr th {\n",
       "        vertical-align: top;\n",
       "    }\n",
       "\n",
       "    .dataframe thead th {\n",
       "        text-align: right;\n",
       "    }\n",
       "</style>\n",
       "<table border=\"1\" class=\"dataframe\">\n",
       "  <thead>\n",
       "    <tr style=\"text-align: right;\">\n",
       "      <th></th>\n",
       "      <th>0</th>\n",
       "      <th>4</th>\n",
       "      <th>8</th>\n",
       "      <th>12</th>\n",
       "    </tr>\n",
       "  </thead>\n",
       "  <tbody>\n",
       "    <tr>\n",
       "      <th>0</th>\n",
       "      <td>None</td>\n",
       "      <td>None</td>\n",
       "      <td>None</td>\n",
       "      <td>None</td>\n",
       "    </tr>\n",
       "    <tr>\n",
       "      <th>5</th>\n",
       "      <td>None</td>\n",
       "      <td>None</td>\n",
       "      <td>None</td>\n",
       "      <td>None</td>\n",
       "    </tr>\n",
       "    <tr>\n",
       "      <th>10</th>\n",
       "      <td>None</td>\n",
       "      <td>None</td>\n",
       "      <td>None</td>\n",
       "      <td>None</td>\n",
       "    </tr>\n",
       "    <tr>\n",
       "      <th>15</th>\n",
       "      <td>None</td>\n",
       "      <td>None</td>\n",
       "      <td>None</td>\n",
       "      <td>None</td>\n",
       "    </tr>\n",
       "    <tr>\n",
       "      <th>20</th>\n",
       "      <td>None</td>\n",
       "      <td>None</td>\n",
       "      <td>None</td>\n",
       "      <td>None</td>\n",
       "    </tr>\n",
       "  </tbody>\n",
       "</table>\n",
       "</div>"
      ],
      "text/plain": [
       "      0     4     8     12\n",
       "0   None  None  None  None\n",
       "5   None  None  None  None\n",
       "10  None  None  None  None\n",
       "15  None  None  None  None\n",
       "20  None  None  None  None"
      ]
     },
     "execution_count": 22,
     "metadata": {},
     "output_type": "execute_result"
    }
   ],
   "source": [
    "def generate_matrix(dz, dt, ue):\n",
    "    t_cols = [i*dt for i in range(dt)]\n",
    "    z_rows = [j*dz for j in range(dz)]\n",
    "    return pd.DataFrame(np.full((dz, dt), ue), columns=t_cols, index=z_rows)\n",
    "bc = generate_matrix(5, 4, None)"
   ]
  },
  {
   "cell_type": "code",
   "execution_count": null,
   "id": "ee72e25b",
   "metadata": {},
   "outputs": [],
   "source": [
    "class SoilLayer:\n",
    "    def __init__(self, cv=None, del_z=None, beta=None):\n",
    "        self.cv = cv        # Coefficient of consolidation (m²/s)\n",
    "        self.del_z = del_z  # Depth step (m)\n",
    "        self.beta = beta    # Dimensionless consolidation factor\n",
    "        self.del_t = None   # Time step (s)\n",
    "        self.boundary_conditions = None\n",
    "\n",
    "    def solve_del_t(self):\n",
    "        cv, del_t, del_z, beta = symbols('cv del_t del_z beta')\n",
    "        eq = Eq(beta, cv * del_t / del_z**2)\n",
    "\n",
    "        if self.cv is not None and self.del_z is not None and self.beta is not None:\n",
    "            self.del_t = self.beta * (self.del_z ** 2) / self.cv\n",
    "            return float(self.del_t)\n",
    "        sol = solve(eq, del_t)\n",
    "        return sol[0]\n",
    "    def solve_boundary_conditions(self, dz, dt):\n",
    "        matrix = generate_matrix(dz, dt, None)\n",
    "        matrix.iloc[:,0] = 64  # Initial excess pore water pressure\n",
    "        matrix.iloc[0,1:] = 0   # Zero excess pore water pressure at the\n",
    "        self.boundary_conditions = matrix\n",
    "        return self.boundary_conditions"
   ]
  },
  {
   "cell_type": "code",
   "execution_count": 12,
   "id": "a0bd7c98",
   "metadata": {},
   "outputs": [
    {
     "name": "stdout",
     "output_type": "stream",
     "text": [
      "5.000000000000001\n"
     ]
    }
   ],
   "source": [
    "layer = SoilLayer()\n",
    "layer.cv = 1e-3\n",
    "layer.del_z = 0.1  # m\n",
    "layer.beta = 1/2  # Dimensionless\n",
    "print(layer.solve_del_t())  # → 5.0\n"
   ]
  },
  {
   "cell_type": "code",
   "execution_count": null,
   "id": "4b1313cc",
   "metadata": {},
   "outputs": [],
   "source": []
  }
 ],
 "metadata": {
  "kernelspec": {
   "display_name": ".venv (3.10.12)",
   "language": "python",
   "name": "python3"
  },
  "language_info": {
   "codemirror_mode": {
    "name": "ipython",
    "version": 3
   },
   "file_extension": ".py",
   "mimetype": "text/x-python",
   "name": "python",
   "nbconvert_exporter": "python",
   "pygments_lexer": "ipython3",
   "version": "3.10.12"
  }
 },
 "nbformat": 4,
 "nbformat_minor": 5
}
